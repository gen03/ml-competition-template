{
 "cells": [
  {
   "cell_type": "code",
   "execution_count": null,
   "id": "2b5ae7ce",
   "metadata": {},
   "outputs": [],
   "source": []
  },
  {
   "cell_type": "code",
   "execution_count": null,
   "id": "f78aff9b",
   "metadata": {},
   "outputs": [],
   "source": [
    "\"\"\"\n",
    "Titanicデータセットの探索的分析（EDA）\n",
    "\"\"\"\n",
    "\n",
    "import os\n",
    "import pandas as pd\n",
    "import numpy as np\n",
    "import matplotlib.pyplot as plt\n",
    "import seaborn as sns\n",
    "from pathlib import Path"
   ]
  },
  {
   "cell_type": "code",
   "execution_count": null,
   "id": "ce55d00a",
   "metadata": {
    "lines_to_next_cell": 1
   },
   "outputs": [],
   "source": [
    "# 表示設定\n",
    "plt.style.use('seaborn')\n",
    "sns.set(font_scale=1.2)\n",
    "plt.rcParams['figure.figsize'] = [10, 6]\n",
    "plt.rcParams['font.family'] = 'sans-serif'\n",
    "\n",
    "# プロジェクトのルートディレクトリを取得\n",
    "ROOT_DIR = Path(__file__).parent.parent"
   ]
  },
  {
   "cell_type": "code",
   "execution_count": null,
   "id": "4ee0c486",
   "metadata": {
    "lines_to_next_cell": 1
   },
   "outputs": [],
   "source": [
    "def load_data():\n",
    "    \"\"\"データの読み込み\"\"\"\n",
    "    train = pd.read_csv(ROOT_DIR / 'data/01_raw/train.csv')\n",
    "    test = pd.read_csv(ROOT_DIR / 'data/01_raw/test.csv')\n",
    "    return train, test"
   ]
  },
  {
   "cell_type": "code",
   "execution_count": null,
   "id": "21ddb6ee",
   "metadata": {
    "lines_to_next_cell": 1
   },
   "outputs": [],
   "source": [
    "def check_basic_info(train, test):\n",
    "    \"\"\"基本情報の確認\"\"\"\n",
    "    print('\\n=== Train Info ===')\n",
    "    print(train.info())\n",
    "    print('\\n=== Test Info ===')\n",
    "    print(test.info())\n",
    "\n",
    "    print('\\n=== Train Statistics ===')\n",
    "    print(train.describe())\n",
    "    print('\\n=== Test Statistics ===')\n",
    "    print(test.describe())"
   ]
  },
  {
   "cell_type": "code",
   "execution_count": null,
   "id": "32aa0288",
   "metadata": {
    "lines_to_next_cell": 1
   },
   "outputs": [],
   "source": [
    "def check_missing_values(train, test):\n",
    "    \"\"\"欠損値の確認\"\"\"\n",
    "    print('\\n=== Train Missing Values ===')\n",
    "    print(train.isnull().sum())\n",
    "    print('\\n=== Test Missing Values ===')\n",
    "    print(test.isnull().sum())"
   ]
  },
  {
   "cell_type": "code",
   "execution_count": null,
   "id": "68938733",
   "metadata": {
    "lines_to_next_cell": 1
   },
   "outputs": [],
   "source": [
    "def analyze_target(train):\n",
    "    \"\"\"目的変数の分析\"\"\"\n",
    "    # 生存率の確認\n",
    "    survival_rate = train['Survived'].mean()\n",
    "    print(f'生存率: {survival_rate:.2%}')\n",
    "\n",
    "    # 可視化\n",
    "    plt.figure(figsize=(8, 6))\n",
    "    sns.countplot(x='Survived', data=train)\n",
    "    plt.title('生存者数')\n",
    "    plt.savefig(ROOT_DIR / 'notebooks/figures/survival_count.png')\n",
    "    plt.close()"
   ]
  },
  {
   "cell_type": "code",
   "execution_count": null,
   "id": "0b611cb4",
   "metadata": {
    "lines_to_next_cell": 1
   },
   "outputs": [],
   "source": [
    "def analyze_features(train):\n",
    "    \"\"\"特徴量の分析\"\"\"\n",
    "    # 性別と生存率\n",
    "    plt.figure(figsize=(8, 6))\n",
    "    sns.barplot(x='Sex', y='Survived', data=train)\n",
    "    plt.title('性別と生存率')\n",
    "    plt.savefig(ROOT_DIR / 'notebooks/figures/sex_survival.png')\n",
    "    plt.close()\n",
    "\n",
    "    # チケットクラスと生存率\n",
    "    plt.figure(figsize=(8, 6))\n",
    "    sns.barplot(x='Pclass', y='Survived', data=train)\n",
    "    plt.title('チケットクラスと生存率')\n",
    "    plt.savefig(ROOT_DIR / 'notebooks/figures/class_survival.png')\n",
    "    plt.close()\n",
    "\n",
    "    # 年齢と生存率\n",
    "    plt.figure(figsize=(10, 6))\n",
    "    sns.histplot(data=train, x='Age', hue='Survived', multiple='stack')\n",
    "    plt.title('年齢と生存率')\n",
    "    plt.savefig(ROOT_DIR / 'notebooks/figures/age_survival.png')\n",
    "    plt.close()\n",
    "\n",
    "    # 運賃と生存率\n",
    "    plt.figure(figsize=(10, 6))\n",
    "    sns.boxplot(x='Survived', y='Fare', data=train)\n",
    "    plt.title('運賃と生存率')\n",
    "    plt.savefig(ROOT_DIR / 'notebooks/figures/fare_survival.png')\n",
    "    plt.close()"
   ]
  },
  {
   "cell_type": "code",
   "execution_count": null,
   "id": "357d1f1d",
   "metadata": {
    "lines_to_next_cell": 1
   },
   "outputs": [],
   "source": [
    "def analyze_correlations(train):\n",
    "    \"\"\"特徴量間の関係\"\"\"\n",
    "    # 相関行列\n",
    "    numeric_cols = ['Survived', 'Pclass', 'Age', 'SibSp', 'Parch', 'Fare']\n",
    "    corr = train[numeric_cols].corr()\n",
    "\n",
    "    plt.figure(figsize=(10, 8))\n",
    "    sns.heatmap(corr, annot=True, cmap='coolwarm')\n",
    "    plt.title('相関行列')\n",
    "    plt.savefig(ROOT_DIR / 'notebooks/figures/correlation_matrix.png')\n",
    "    plt.close()\n",
    "\n",
    "    # 性別とチケットクラス\n",
    "    plt.figure(figsize=(10, 6))\n",
    "    sns.countplot(x='Pclass', hue='Sex', data=train)\n",
    "    plt.title('性別とチケットクラス')\n",
    "    plt.savefig(ROOT_DIR / 'notebooks/figures/sex_class.png')\n",
    "    plt.close()"
   ]
  },
  {
   "cell_type": "code",
   "execution_count": null,
   "id": "720710f9",
   "metadata": {
    "lines_to_next_cell": 1
   },
   "outputs": [],
   "source": [
    "def analyze_family_size(train):\n",
    "    \"\"\"家族サイズの分析\"\"\"\n",
    "    # 家族サイズの計算\n",
    "    train['FamilySize'] = train['SibSp'] + train['Parch'] + 1\n",
    "\n",
    "    # 家族サイズと生存率\n",
    "    plt.figure(figsize=(10, 6))\n",
    "    sns.barplot(x='FamilySize', y='Survived', data=train)\n",
    "    plt.title('家族サイズと生存率')\n",
    "    plt.savefig(ROOT_DIR / 'notebooks/figures/family_size_survival.png')\n",
    "    plt.close()"
   ]
  },
  {
   "cell_type": "code",
   "execution_count": null,
   "id": "6169510c",
   "metadata": {
    "lines_to_next_cell": 1
   },
   "outputs": [],
   "source": [
    "def main():\n",
    "    \"\"\"メイン関数\"\"\"\n",
    "    # 出力ディレクトリの作成\n",
    "    os.makedirs(ROOT_DIR / 'notebooks/figures', exist_ok=True)\n",
    "\n",
    "    # データの読み込み\n",
    "    train, test = load_data()\n",
    "    print('Train shape:', train.shape)\n",
    "    print('Test shape:', test.shape)\n",
    "\n",
    "    # 基本情報の確認\n",
    "    check_basic_info(train, test)\n",
    "\n",
    "    # 欠損値の確認\n",
    "    check_missing_values(train, test)\n",
    "\n",
    "    # 目的変数の分析\n",
    "    analyze_target(train)\n",
    "\n",
    "    # 特徴量の分析\n",
    "    analyze_features(train)\n",
    "\n",
    "    # 特徴量間の関係\n",
    "    analyze_correlations(train)\n",
    "\n",
    "    # 家族サイズの分析\n",
    "    analyze_family_size(train)\n",
    "\n",
    "    print('\\n=== 主な発見 ===')\n",
    "    print('1. 性別が生存率に大きく影響')\n",
    "    print('2. チケットクラスが生存率に影響')\n",
    "    print('3. 年齢と運賃も生存率に関連')\n",
    "    print('4. 家族サイズも重要な特徴量')\n",
    "\n",
    "    print('\\n=== 次のステップ ===')\n",
    "    print('1. 欠損値の補完方法の検討')\n",
    "    print('2. 特徴量エンジニアリングの検討')\n",
    "    print('3. モデルの選択と学習')"
   ]
  },
  {
   "cell_type": "code",
   "execution_count": null,
   "id": "76b55627",
   "metadata": {},
   "outputs": [],
   "source": [
    "if __name__ == '__main__':\n",
    "    main()"
   ]
  }
 ],
 "metadata": {
  "jupytext": {
   "cell_metadata_filter": "execution_count,execution_info",
   "encoding": "# -*- coding: utf-8 -*-",
   "executable": "/usr/bin/env python",
   "main_language": "python",
   "notebook_metadata_filter": "-all"
  }
 },
 "nbformat": 4,
 "nbformat_minor": 5
}
